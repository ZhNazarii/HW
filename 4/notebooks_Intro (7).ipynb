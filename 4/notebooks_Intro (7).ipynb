{
  "metadata": {
    "kernelspec": {
      "name": "python",
      "display_name": "Python (Pyodide)",
      "language": "python"
    },
    "language_info": {
      "codemirror_mode": {
        "name": "python",
        "version": 3
      },
      "file_extension": ".py",
      "mimetype": "text/x-python",
      "name": "python",
      "nbconvert_exporter": "python",
      "pygments_lexer": "ipython3",
      "version": "3.8"
    }
  },
  "nbformat_minor": 5,
  "nbformat": 4,
  "cells": [
    {
      "cell_type": "code",
      "source": "import numpy as np\n\n# Створимо матрицю A\nA = np.array([[1,2],\n              [4, -1]])\n\n# Створимо матрицю B\nB = np.array([[2,-3],\n              [4, 1]])\n\n# Обчислимо матрицю C\nC = np.dot(A, B) - np.dot(B, A)\n\nprint(\"Матриця C:\")\nprint(C)",
      "metadata": {
        "trusted": true
      },
      "execution_count": 8,
      "outputs": [
        {
          "name": "stdout",
          "text": "Матриця C:\n[[ 20  -8]\n [ -4 -20]]\n",
          "output_type": "stream"
        }
      ],
      "id": "751447e7-e6fe-46ac-b2e7-7361af6ab901"
    },
    {
      "cell_type": "code",
      "source": "import numpy as np\n\n# Створимо матрицю A\nA = np.array([[-1,2],\n              [0, 1]])\n\n# Обчислимо матрицю C\nC = pow(A,2)\n\n\nprint(C)",
      "metadata": {
        "trusted": true
      },
      "execution_count": 9,
      "outputs": [
        {
          "name": "stdout",
          "text": "[[1 4]\n [0 1]]\n",
          "output_type": "stream"
        }
      ],
      "id": "e1e5b532-e178-4347-bde4-ef703f62474c"
    },
    {
      "cell_type": "code",
      "source": "import numpy as np\n\n# Створимо матрицю A\nA = np.array([[3,5],\n              [6, -1]])\n\n# Створимо матрицю B\nB = np.array([[2,1],\n              [-3, 2]])\n\n# Обчислимо матрицю C\nC = A * B\n\nprint(\"Матриця C:\")\nprint(C)",
      "metadata": {
        "trusted": true
      },
      "execution_count": 10,
      "outputs": [
        {
          "name": "stdout",
          "text": "Матриця C:\n[[  6   5]\n [-18  -2]]\n",
          "output_type": "stream"
        }
      ],
      "id": "2066b001-1343-46b5-a69f-a38d47410923"
    },
    {
      "cell_type": "code",
      "source": "import numpy as np\n\n# Для матриці 4x4\nB = np.array([[1, 2, 3,4],\n              [3, -1, 2,5],\n              [1, 2, 3,4],\n              [1,3,4,5]\n              ])\n\ndet_4x4 = np.linalg.det(B)\n\n\nprint(\"Визначник матриці 4x4:\", det_4x4)",
      "metadata": {
        "trusted": true
      },
      "execution_count": 11,
      "outputs": [
        {
          "name": "stdout",
          "text": "Визначник матриці 4x4: 0.0\n",
          "output_type": "stream"
        }
      ],
      "id": "5dd1bdd2-6654-4f05-b8d7-da2628ea1529"
    },
    {
      "cell_type": "code",
      "source": "import numpy as np\n\nA = np.array([[1, -2, 1],\n              [2, -1, 1],\n              [3, 2, 2]])\n\nB = np.array([4, 3, 2])\ndetA = np.linalg.det(A)\n\nA_x = A.copy()\nA_x[:, 0] = B\ndetA_x = np.linalg.det(A_x)\n\nA_y = A.copy()\nA_y[:, 1] = B\ndetA_y = np.linalg.det(A_y)\n\nA_z = A.copy()\nA_z[:, 2] = B\ndetA_z = np.linalg.det(A_z)\n\nx = detA_x / detA\ny = detA_y / detA\nz = detA_z / detA\n\nprint(\"Решение:\")\nprint(\"x =\", x)\nprint(\"y =\", y)\nprint(\"z =\", z)",
      "metadata": {
        "trusted": true
      },
      "execution_count": 12,
      "outputs": [
        {
          "name": "stdout",
          "text": "Решение:\nx = 0.0\ny = -1.0\nz = 2.0\n",
          "output_type": "stream"
        }
      ],
      "id": "8bf81398-ee5d-4174-bfa2-929855853759"
    },
    {
      "cell_type": "code",
      "source": "import numpy as np\n\n# Для матриці 3x3\nB = np.array([[2, 3, 4],\n              [1, 0, 6],\n              [7, 8, 9]])\n\ndet_3x3 = np.linalg.det(B)\n\n\nprint(\"Визначник матриці 3x3:\", det_3x3)",
      "metadata": {
        "trusted": true
      },
      "execution_count": 13,
      "outputs": [
        {
          "name": "stdout",
          "text": "Визначник матриці 3x3: 35.00000000000001\n",
          "output_type": "stream"
        }
      ],
      "id": "19187231-87b0-479e-9e54-95e4a846e11c"
    },
    {
      "cell_type": "code",
      "source": "import numpy as np\nN = 5\nM = 6 \n\nA = np.random.randint(1, 11, size=(N, M))\n\ntotal_sum = np.sum(A)\n\ncolumn_sums = np.sum(A, axis=0)\n\ncolumn_fractions = column_sums / total_sum\n\nprint(\"Матриця A:\")\nprint(A)\n\nprint(\"\\nСума всіх елементів матриці:\", total_sum)\n\nprint(\"\\nСуми елементів кожного стовпця:\")\nfor i, col_sum in enumerate(column_sums):\n    print(f\"Сума стовпця {i + 1}: {col_sum}\")\n\nprint(\"\\nДолі сум елементів кожного стовпця відносно загальної суми:\")\nfor i, fraction in enumerate(column_fractions):\n    print(f\"Доля стовпця {i + 1}: {fraction:.2%}\")",
      "metadata": {
        "trusted": true
      },
      "execution_count": 14,
      "outputs": [
        {
          "name": "stdout",
          "text": "Матриця A:\n[[ 1  3 10  7  2 10]\n [ 7  3  9  2  5  1]\n [10  1  2  3  3  9]\n [10 10  1  5  9  7]\n [ 2  5  7  2  1 10]]\n\nСума всіх елементів матриці: 157\n\nСуми елементів кожного стовпця:\nСума стовпця 1: 30\nСума стовпця 2: 22\nСума стовпця 3: 29\nСума стовпця 4: 19\nСума стовпця 5: 20\nСума стовпця 6: 37\n\nДолі сум елементів кожного стовпця відносно загальної суми:\nДоля стовпця 1: 19.11%\nДоля стовпця 2: 14.01%\nДоля стовпця 3: 18.47%\nДоля стовпця 4: 12.10%\nДоля стовпця 5: 12.74%\nДоля стовпця 6: 23.57%\n",
          "output_type": "stream"
        }
      ],
      "id": "cc5f7e65-8f5c-48cb-9f5b-0d0c7564bc42"
    },
    {
      "cell_type": "markdown",
      "source": "## Next steps 🏃\n\nThis is just a short introduction to JupyterLab and Jupyter Notebooks. See below for some more ways to interact with tools in the Jupyter ecosystem, and its community.\n\n### Other notebooks in this demo\n\nHere are some other notebooks in this demo. Each of the items below corresponds to a file or folder in the **file browser to the left**.\n\n- [**`Lorenz.ipynb`**](Lorenz.ipynb) uses Python to demonstrate interactive visualizations and computations around the [Lorenz system](https://en.wikipedia.org/wiki/Lorenz_system). It shows off basic Python functionality, including more visualizations, data structures, and scientific computing libraries.\n- [**`sqlite.ipynb`**](sqlite.ipynb) demonstrates how an in-browser sqlite kernel to run your own SQL commands from the notebook. It uses the [jupyterlite/xeus-sqlite-kernel](https://github.com/jupyterlite/xeus-sqlite-kernel).\n\n### Other sources of information in Jupyter\n\n- **More on using JupyterLab**: See [the JupyterLab documentation](https://jupyterlab.readthedocs.io/en/stable/) for more thorough information about how to install and use JupyterLab.\n- **More interactive demos**: See [try.jupyter.org](https://try.jupyter.org) for more interactive demos with the Jupyter ecosystem.\n- **Learn more about Jupyter**: See [the Jupyter community documentation](https://docs.jupyter.org) to learn more about the project, its community and tools, and how to get involved.\n- **Join our discussions**: The [Jupyter Community Forum](https://discourse.jupyter.org) is a place where many in the Jupyter community ask questions, help one another, and discuss issues around interactive computing and our ecosystem.",
      "metadata": {},
      "id": "b9670d85-ef29-4dfd-b4b5-e76d279c1f1a"
    }
  ]
}