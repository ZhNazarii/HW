{
  "metadata": {
    "kernelspec": {
      "name": "python",
      "display_name": "Python (Pyodide)",
      "language": "python"
    },
    "language_info": {
      "codemirror_mode": {
        "name": "python",
        "version": 3
      },
      "file_extension": ".py",
      "mimetype": "text/x-python",
      "name": "python",
      "nbconvert_exporter": "python",
      "pygments_lexer": "ipython3",
      "version": "3.8"
    }
  },
  "nbformat_minor": 5,
  "nbformat": 4,
  "cells": [
    {
      "cell_type": "code",
      "source": "import numpy as np \nimport math \nfrom scipy.misc import derivative \n\ndef f(x): \n\n    return pow(x, 4) + 2*pow(x, 3) + 2*pow(x, 2) + 6*x - 5\n\na = -2. \nb = -1/2 \n\neps = 0.001 #точність \n\n \ndef nuton(a,b,eps): \n    df2 = derivative(f, b, n = 2) \n    if (f(b)*df2>0): \n\n        xi = b \n    else: \n        xi = a \n    df = derivative(f,xi, n= 1) \n    xi_1 = xi - f(xi)/df \n    \n    while (abs(xi_1 - xi)>eps): #accuracy check \n        xi = xi_1 \n        xi_1 = xi - f(xi)/df \n\n    return print ('Solving the equation by Newton*s method x = ', xi_1) \n\nnuton (a,b,eps) ",
      "metadata": {
        "trusted": true
      },
      "execution_count": 7,
      "outputs": [
        {
          "name": "stderr",
          "text": "<ipython-input-7-77c3e51d5050>:16: DeprecationWarning: scipy.misc.derivative is deprecated in SciPy v1.10.0; and will be completely removed in SciPy v1.12.0. You may consider using findiff: https://github.com/maroba/findiff or numdifftools: https://github.com/pbrod/numdifftools\n  df2 = derivative(f, b, n = 2)\n<ipython-input-7-77c3e51d5050>:22: DeprecationWarning: scipy.misc.derivative is deprecated in SciPy v1.10.0; and will be completely removed in SciPy v1.12.0. You may consider using findiff: https://github.com/maroba/findiff or numdifftools: https://github.com/pbrod/numdifftools\n  df = derivative(f,xi, n= 1)\n",
          "output_type": "stream"
        },
        {
          "name": "stdout",
          "text": "Solving the equation by Newton*s method x =  -2.4887189408251444\n",
          "output_type": "stream"
        }
      ],
      "id": "5ac63eec-0521-4dfa-bf66-e3910e2b5ce4"
    },
    {
      "cell_type": "code",
      "source": "import numpy as np \nimport math \nfrom scipy.misc import derivative \n\ndef f(x): \n\n    return pow(x, 4) + 2*pow(x, 3) + 2*pow(x, 2) + 6*x - 5\n\ndef komb(a,b,eps): \n    if (derivative(f, a, n = 1)*derivative(f, a, n = 2)>0): \n        a0 = a \n        b0 = b \n    else: \n        a0 = b \n        b0 = a \n    ai = a0 \n    bi = b0 \n    while (abs(ai-bi)>eps):    \n        ai_1 = ai -f(ai)*(bi - ai)/(f(bi) - f(ai)) \n        bi_1 = bi - f(bi)/derivative(f,bi, n= 1)  \n        ai = ai_1 \n        bi = bi_1 \n    x = (ai_1+bi_1)/2  \n\n    return print('Solving the equation by the combined method x = ', x) \n\nkomb(-2,-1/2,0.0001) ",
      "metadata": {
        "trusted": true
      },
      "execution_count": 6,
      "outputs": [
        {
          "name": "stderr",
          "text": "<ipython-input-6-43f682af56ce>:10: DeprecationWarning: scipy.misc.derivative is deprecated in SciPy v1.10.0; and will be completely removed in SciPy v1.12.0. You may consider using findiff: https://github.com/maroba/findiff or numdifftools: https://github.com/pbrod/numdifftools\n  if (derivative(f, a, n = 1)*derivative(f, a, n = 2)>0):\n<ipython-input-6-43f682af56ce>:20: DeprecationWarning: scipy.misc.derivative is deprecated in SciPy v1.10.0; and will be completely removed in SciPy v1.12.0. You may consider using findiff: https://github.com/maroba/findiff or numdifftools: https://github.com/pbrod/numdifftools\n  bi_1 = bi - f(bi)/derivative(f,bi, n= 1)\n",
          "output_type": "stream"
        },
        {
          "name": "stdout",
          "text": "Solving the equation by the combined method x =  -2.489146515762469\n",
          "output_type": "stream"
        }
      ],
      "id": "5f6a9168-244e-4864-bcaf-64d9827dcc47"
    },
    {
      "cell_type": "markdown",
      "source": "## Next steps 🏃\n\nThis is just a short introduction to JupyterLab and Jupyter Notebooks. See below for some more ways to interact with tools in the Jupyter ecosystem, and its community.\n\n### Other notebooks in this demo\n\nHere are some other notebooks in this demo. Each of the items below corresponds to a file or folder in the **file browser to the left**.\n\n- [**`Lorenz.ipynb`**](Lorenz.ipynb) uses Python to demonstrate interactive visualizations and computations around the [Lorenz system](https://en.wikipedia.org/wiki/Lorenz_system). It shows off basic Python functionality, including more visualizations, data structures, and scientific computing libraries.\n- [**`sqlite.ipynb`**](sqlite.ipynb) demonstrates how an in-browser sqlite kernel to run your own SQL commands from the notebook. It uses the [jupyterlite/xeus-sqlite-kernel](https://github.com/jupyterlite/xeus-sqlite-kernel).\n\n### Other sources of information in Jupyter\n\n- **More on using JupyterLab**: See [the JupyterLab documentation](https://jupyterlab.readthedocs.io/en/stable/) for more thorough information about how to install and use JupyterLab.\n- **More interactive demos**: See [try.jupyter.org](https://try.jupyter.org) for more interactive demos with the Jupyter ecosystem.\n- **Learn more about Jupyter**: See [the Jupyter community documentation](https://docs.jupyter.org) to learn more about the project, its community and tools, and how to get involved.\n- **Join our discussions**: The [Jupyter Community Forum](https://discourse.jupyter.org) is a place where many in the Jupyter community ask questions, help one another, and discuss issues around interactive computing and our ecosystem.",
      "metadata": {},
      "id": "b9670d85-ef29-4dfd-b4b5-e76d279c1f1a"
    }
  ]
}