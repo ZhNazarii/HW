{
  "metadata": {
    "kernelspec": {
      "name": "python",
      "display_name": "Python (Pyodide)",
      "language": "python"
    },
    "language_info": {
      "codemirror_mode": {
        "name": "python",
        "version": 3
      },
      "file_extension": ".py",
      "mimetype": "text/x-python",
      "name": "python",
      "nbconvert_exporter": "python",
      "pygments_lexer": "ipython3",
      "version": "3.8"
    }
  },
  "nbformat_minor": 5,
  "nbformat": 4,
  "cells": [
    {
      "cell_type": "code",
      "source": "import math \n\nx1 = 22  \nx2 = 2 / 21  \nx1_1 = 4.69  \nx2_2 = 0.095 \n \ndef f(x1, x1_1, x2, x2_2): \n    rel_error_x1 = abs(math.sqrt(x1) - x1_1) / abs(math.sqrt(x1)) \n    rel_error_x2 = abs(x2 - x2_2) / abs(x2) \n\n    if rel_error_x1 < rel_error_x2: \n        print(\"Перша рівність точніше з відносною похибкою:\", rel_error_x1) \n    elif rel_error_x2 < rel_error_x1: \n\n        print(\"Друга рівність точніше з відносною похибкою:\", rel_error_x2) \n    else: \n\n        print(\"Обидві рівності мають однакову точність з відносною похибкою:\", rel_error_x1) \nf(x1, x1_1, x2, x2_2) \n",
      "metadata": {
        "trusted": true
      },
      "execution_count": 4,
      "outputs": [
        {
          "name": "stdout",
          "text": "Перша рівність точніше з відносною похибкою: 8.864029218701745e-05\n",
          "output_type": "stream"
        }
      ],
      "id": "55dcb322-8b2d-4d5f-8cbe-5fa5782d64bf"
    },
    {
      "cell_type": "code",
      "source": "# flake8: noqa\nx1 = 2.4543\n\nx2_error = 0.0032\n\ndef function(x1, x2_error):\n    exponential_form = \"{:.3e}\".format(x1)\n    parts = exponential_form.split('e')\n    exponent = int(parts[1])\n    \n    for n in range(1,5):\n        if x2_error <= 0.5*10**(exponent-n+1):\n            print(\"Умова виконуєтся\")\n        else:\n            print(\"Умова не виконуєтся\")\n            \nfunction(x1, x2_error)",
      "metadata": {
        "trusted": true
      },
      "execution_count": 3,
      "outputs": [
        {
          "name": "stdout",
          "text": "Умова виконуєтся\nУмова виконуєтся\nУмова виконуєтся\nУмова не виконуєтся\n",
          "output_type": "stream"
        }
      ],
      "id": "34790103-4eed-440a-bddf-6fde3484aed6"
    },
    {
      "cell_type": "code",
      "source": "x = 0.374\n\ndef function(x):\n    error = 0.5*0.0001\n    rel_error = error/x\n    result = round(rel_error,6)*100\n    print(f\"У відсотках {result} %\")\n    \nfunction(x)",
      "metadata": {
        "trusted": true
      },
      "execution_count": 2,
      "outputs": [
        {
          "name": "stdout",
          "text": "У відсотках 0.0134 %\n",
          "output_type": "stream"
        }
      ],
      "id": "27ac4083-ee6f-47c6-8434-1737a5027187"
    },
    {
      "cell_type": "code",
      "source": "x = 4.348\n\ndef function(x):\n    error = 1 * 0.0001\n    rel_error = error/x\n    result = round(rel_error,5)*100\n    print(f\"У відсотках {result} %\")\n    \nfunction(x)",
      "metadata": {
        "trusted": true
      },
      "execution_count": 1,
      "outputs": [
        {
          "name": "stdout",
          "text": "У відсотках 0.002 %\n",
          "output_type": "stream"
        }
      ],
      "id": "9f52316e-5ba3-4ce0-b1cd-27b5da50014f"
    },
    {
      "cell_type": "markdown",
      "source": "## Next steps 🏃\n\nThis is just a short introduction to JupyterLab and Jupyter Notebooks. See below for some more ways to interact with tools in the Jupyter ecosystem, and its community.\n\n### Other notebooks in this demo\n\nHere are some other notebooks in this demo. Each of the items below corresponds to a file or folder in the **file browser to the left**.\n\n- [**`Lorenz.ipynb`**](Lorenz.ipynb) uses Python to demonstrate interactive visualizations and computations around the [Lorenz system](https://en.wikipedia.org/wiki/Lorenz_system). It shows off basic Python functionality, including more visualizations, data structures, and scientific computing libraries.\n- [**`sqlite.ipynb`**](sqlite.ipynb) demonstrates how an in-browser sqlite kernel to run your own SQL commands from the notebook. It uses the [jupyterlite/xeus-sqlite-kernel](https://github.com/jupyterlite/xeus-sqlite-kernel).\n\n### Other sources of information in Jupyter\n\n- **More on using JupyterLab**: See [the JupyterLab documentation](https://jupyterlab.readthedocs.io/en/stable/) for more thorough information about how to install and use JupyterLab.\n- **More interactive demos**: See [try.jupyter.org](https://try.jupyter.org) for more interactive demos with the Jupyter ecosystem.\n- **Learn more about Jupyter**: See [the Jupyter community documentation](https://docs.jupyter.org) to learn more about the project, its community and tools, and how to get involved.\n- **Join our discussions**: The [Jupyter Community Forum](https://discourse.jupyter.org) is a place where many in the Jupyter community ask questions, help one another, and discuss issues around interactive computing and our ecosystem.",
      "metadata": {},
      "id": "b9670d85-ef29-4dfd-b4b5-e76d279c1f1a"
    }
  ]
}