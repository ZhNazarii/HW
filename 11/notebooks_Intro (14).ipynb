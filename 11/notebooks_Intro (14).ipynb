{
  "metadata": {
    "kernelspec": {
      "name": "python",
      "display_name": "Python (Pyodide)",
      "language": "python"
    },
    "language_info": {
      "codemirror_mode": {
        "name": "python",
        "version": 3
      },
      "file_extension": ".py",
      "mimetype": "text/x-python",
      "name": "python",
      "nbconvert_exporter": "python",
      "pygments_lexer": "ipython3",
      "version": "3.8"
    }
  },
  "nbformat_minor": 5,
  "nbformat": 4,
  "cells": [
    {
      "cell_type": "code",
      "source": "import numpy as np\nfrom scipy import integrate\n\ndef integrand_function(x):\n    return np.sqrt(3*x + 1)\n\ndef rectangle_rule_integration(a, b, n, method):\n    integral_value = 0\n    width = (b - a) / n\n\n    for i in range(n):\n        x_i = a + (i + method) * width\n        integral_value += integrand_function(x_i) * width\n\n    return integral_value\n\ndef runge_rule_integration(a, b, epsilon, n, method):\n    result = rectangle_rule_integration(a, b, n, method)\n    result2 = rectangle_rule_integration(a, b, 2 * n, method)\n\n    while abs(result2 - result) >= 3 * epsilon:\n        n *= 2\n        result = result2\n        result2 = rectangle_rule_integration(a, b, 2 * n, method)\n\n    return result2\na = 2.1\nb = 1.4\nepsilon = 0.0001\nn = 10\n\nleft_result = runge_rule_integration(a, b, epsilon, n, 0)\nright_result = runge_rule_integration(a, b, epsilon, n, 1)\nmidpoint_result = runge_rule_integration(a, b, epsilon, n, 0.5)\n\nprint(f\"Лівий прямокутник: {left_result:.5f}\")\nprint(f\"Правий прямокутник: {right_result:.5f}\")\nprint(f\"Середній прямокутник: {midpoint_result:.5f}\")\n\n# Перевірка методу:\nprint(\"Перевірка методу:\", round(integrate.quad(integrand_function, 1.8, 0.8)[0], 5))",
      "metadata": {
        "trusted": true
      },
      "execution_count": 28,
      "outputs": [
        {
          "name": "stdout",
          "text": "Лівий прямокутник: -1.74816\nПравий прямокутник: -1.74770\nСередній прямокутник: -1.74794\nПеревірка методу: -2.20479\n",
          "output_type": "stream"
        }
      ],
      "id": "83ccb430-df74-49e0-a3a1-044a77af45cd"
    },
    {
      "cell_type": "code",
      "source": "import math\nfrom scipy import integrate\n\ndef integrand_function(x):\n    return math.log(x**2) / x \n\ndef simpsons_rule_integration(a, b, n):\n    h = (b - a) / n\n    result = integrand_function(a) + integrand_function(b)\n    for i in range(1, n):\n        x_i = a + i * h\n        if i % 2 == 0:\n            result += 2 * integrand_function(x_i)\n        else:\n            result += 4 * integrand_function(x_i)\n    return result * h / 3\n\na = 1.6\nb = 0.8\nn = 8\nepsilon = 0.001\nresult = simpsons_rule_integration(a, b, n)\n\nwhile True:\n    n *= 2\n    previous_result = result\n    result = simpsons_rule_integration(a, b, n)\n    if abs(result - previous_result) <= epsilon:\n        break\nprint(f\"Значення інтегралу через метод Сімпсона: {result:.5f}\")\n\n# Проверка метода с использованием integrate.quad\nv, err = integrate.quad(integrand_function, a, b)\nprint(\"Перевірка методу: \", round(v, 5))",
      "metadata": {
        "trusted": true
      },
      "execution_count": 30,
      "outputs": [
        {
          "name": "stdout",
          "text": "Значення інтегралу через метод Сімпсона: -0.17111\nПеревірка методу:  -0.17111\n",
          "output_type": "stream"
        }
      ],
      "id": "04d43268-517f-4be5-8326-fab0bb6263db"
    },
    {
      "cell_type": "code",
      "source": "import numpy as np\nimport scipy.integrate as integrate\n\ndef integrand_function(x):\n    return 1/math.sqrt(0.2**2 +1)\n\ndef trapezoidal_rule_integration(a, b, n):\n    h = (b - a) / n\n    result = (integrand_function(a) + integrand_function(b)) / 2\n    for i in range(1, n):\n        result += integrand_function(a + i * h)\n    return result * h\n\na = 2.5\nb = 1.3\nn = 10\nepsilon = 0.001\nresult = trapezoidal_rule_integration(a, b, n)\n\nwhile True:\n    n *= 2\n    previous_result = result\n    result = trapezoidal_rule_integration(a, b, n)\n    if abs(result - previous_result) <= epsilon:\n        break\nprint(f\"Значення інтегралу через метод трапеції: {result:.5f}\")\n\nv, err = integrate.quad(integrand_function, 2.5, 1.3)\nprint(\"Перевірка методу: \", round(v, 5))",
      "metadata": {
        "trusted": true
      },
      "execution_count": 32,
      "outputs": [
        {
          "name": "stdout",
          "text": "Значення інтегралу через метод трапеції: -1.17670\nПеревірка методу:  -1.1767\n",
          "output_type": "stream"
        }
      ],
      "id": "97c0795e-3195-4d60-b8cc-491decafb980"
    },
    {
      "cell_type": "code",
      "source": "",
      "metadata": {},
      "execution_count": null,
      "outputs": [],
      "id": "5da2c1d4-4cc4-4b10-97e4-00b61359ff0e"
    }
  ]
}