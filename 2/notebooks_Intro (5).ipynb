{
  "metadata": {
    "kernelspec": {
      "name": "python",
      "display_name": "Python (Pyodide)",
      "language": "python"
    },
    "language_info": {
      "codemirror_mode": {
        "name": "python",
        "version": 3
      },
      "file_extension": ".py",
      "mimetype": "text/x-python",
      "name": "python",
      "nbconvert_exporter": "python",
      "pygments_lexer": "ipython3",
      "version": "3.8"
    }
  },
  "nbformat_minor": 5,
  "nbformat": 4,
  "cells": [
    {
      "cell_type": "code",
      "source": "import math \nimport numpy as np \nfrom scipy.misc import derivative \n\ndef f(x): \n\n   return pow(x, 4) + 2*pow(x, 3) + 2*pow(x, 2) + 6*x - 5\n\neps=0.0001 \n\ndef find_segments():\n    search_range = np.arange(-10, 10, 1) \n\n    a = None \n    previous_x = None \n    current_x  = None \n    segments = [] \n\n \n    for x in search_range: \n        x = round(x, 4) \n        current_x = f(x) \n        if previous_x != None and previous_x * current_x < 0: \n            segments.append((a, x)) \n        a = x \n        previous_x = current_x \n    return segments \n\nsegments = find_segments() \n\nfor a, b in segments: \n\n    print(f'Found segment:  [{a}, {b}]') \n\n\ndef rec(a, b, eps):\n    while (abs(a-b) > eps): \n        if f(a)*f((a+b)/2) < 0:  \n            b = (a+b)/2  \n        else:  \n\n            a = (a+b)/2 \n        x = (a+b)/2 \n\n    print ('x= ', round(x,5), '  -   Half division method') \n\ndef hord (a,b,eps): \n    if f(a) * derivative(f, a, n=2) > 0: \n        x0=a \n        xi=b \n    else: \n        x0=b \n        xi=a \n\n    xi_1=xi-(xi-x0)*f(xi)/(f(xi)-f(x0)) \n\n    while (abs(xi_1-xi)>eps): \n\n        xi=xi_1 \n\n        xi_1=xi-(xi-x0)*f(xi)/(f(xi)-f(x0)) \n\n    print('x= ', round (xi_1,5) , '  -   Chord method') \n\na=0. \nb=1. \nprint (f'Solution of a nonlinear equation on a segment [{a}, {b}]') \nrec (a,b,eps) \nhord (a,b,eps) ",
      "metadata": {
        "trusted": true
      },
      "execution_count": 2,
      "outputs": [
        {
          "name": "stdout",
          "text": "Found segment:  [-3, -2]\nFound segment:  [0, 1]\nSolution of a nonlinear equation on a segment [0.0, 1.0]\nx=  0.61032   -   Half division method\n",
          "output_type": "stream"
        },
        {
          "name": "stderr",
          "text": "<ipython-input-2-35341554a949>:48: DeprecationWarning: scipy.misc.derivative is deprecated in SciPy v1.10.0; and will be completely removed in SciPy v1.12.0. You may consider using findiff: https://github.com/maroba/findiff or numdifftools: https://github.com/pbrod/numdifftools\n  if f(a) * derivative(f, a, n=2) > 0:\n",
          "output_type": "stream"
        },
        {
          "name": "stdout",
          "text": "x=  0.61028   -   Chord method\n",
          "output_type": "stream"
        }
      ],
      "id": "761fb0ba-a5da-4f3a-b0ce-2924651ec6b1"
    },
    {
      "cell_type": "markdown",
      "source": "## Next steps 🏃\n\nThis is just a short introduction to JupyterLab and Jupyter Notebooks. See below for some more ways to interact with tools in the Jupyter ecosystem, and its community.\n\n### Other notebooks in this demo\n\nHere are some other notebooks in this demo. Each of the items below corresponds to a file or folder in the **file browser to the left**.\n\n- [**`Lorenz.ipynb`**](Lorenz.ipynb) uses Python to demonstrate interactive visualizations and computations around the [Lorenz system](https://en.wikipedia.org/wiki/Lorenz_system). It shows off basic Python functionality, including more visualizations, data structures, and scientific computing libraries.\n- [**`sqlite.ipynb`**](sqlite.ipynb) demonstrates how an in-browser sqlite kernel to run your own SQL commands from the notebook. It uses the [jupyterlite/xeus-sqlite-kernel](https://github.com/jupyterlite/xeus-sqlite-kernel).\n\n### Other sources of information in Jupyter\n\n- **More on using JupyterLab**: See [the JupyterLab documentation](https://jupyterlab.readthedocs.io/en/stable/) for more thorough information about how to install and use JupyterLab.\n- **More interactive demos**: See [try.jupyter.org](https://try.jupyter.org) for more interactive demos with the Jupyter ecosystem.\n- **Learn more about Jupyter**: See [the Jupyter community documentation](https://docs.jupyter.org) to learn more about the project, its community and tools, and how to get involved.\n- **Join our discussions**: The [Jupyter Community Forum](https://discourse.jupyter.org) is a place where many in the Jupyter community ask questions, help one another, and discuss issues around interactive computing and our ecosystem.",
      "metadata": {},
      "id": "b9670d85-ef29-4dfd-b4b5-e76d279c1f1a"
    }
  ]
}